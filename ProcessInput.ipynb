{
  "cells": [
    {
      "cell_type": "code",
      "execution_count": 1,
      "metadata": {
        "id": "YeKq66CdLHsP"
      },
      "outputs": [],
      "source": [
        "import matplotlib.image as mpimg\n",
        "import matplotlib.pyplot as plt\n",
        "# from google.colab import files\n",
        "import numpy as np\n",
        "import tarfile\n",
        "import shutil\n",
        "import json\n",
        "import math\n",
        "import cv2\n",
        "import os"
      ]
    },
    {
      "cell_type": "code",
      "execution_count": 2,
      "metadata": {},
      "outputs": [],
      "source": [
        "def select_white_yellow(image):\n",
        "    # image = cv2.cvtColor(image, cv2.COLOR_BGR2RGB)\n",
        "    converted = cv2.cvtColor(image, cv2.COLOR_RGB2HLS)\n",
        "    # white color mask\n",
        "    lower = np.uint8([  0, 200,   0])\n",
        "    upper = np.uint8([255, 255, 255])\n",
        "    white_mask = cv2.inRange(converted, lower, upper)\n",
        "    # yellow color mask\n",
        "    lower = np.uint8([ 10,   0, 100])\n",
        "    upper = np.uint8([ 40, 255, 255])\n",
        "    yellow_mask = cv2.inRange(converted, lower, upper)\n",
        "    # combine the mask\n",
        "    mask = cv2.bitwise_or(white_mask, yellow_mask)\n",
        "    return cv2.bitwise_and(image, image, mask = mask)"
      ]
    },
    {
      "cell_type": "code",
      "execution_count": 3,
      "metadata": {
        "id": "lemaH5wQUMlq"
      },
      "outputs": [],
      "source": [
        "def Get_Lane_Area(image, vertices):\n",
        "  mask = np.zeros_like(image)\n",
        "\n",
        "  if len(image.shape) > 2:\n",
        "        channel_count = image.shape[2]\n",
        "        ignore_mask_color = (255,) * channel_count\n",
        "  else:\n",
        "        ignore_mask_color = 255\n",
        "\n",
        "  cv2.fillPoly(mask, vertices, ignore_mask_color)\n",
        "  masked_image = cv2.bitwise_and(image, mask)\n",
        "\n",
        "  return masked_image, mask"
      ]
    },
    {
      "cell_type": "code",
      "execution_count": 4,
      "metadata": {
        "id": "Bgj7k6xhXiHc"
      },
      "outputs": [],
      "source": [
        "def Draw_Lines(image, lines, color=[255, 0, 0], thickness=12):\n",
        "  for line in lines:\n",
        "    for x1, y1, x2, y2 in line:\n",
        "        cv2.line(image, (x1, y1), (x2, y2), color, thickness)"
      ]
    },
    {
      "cell_type": "code",
      "execution_count": 5,
      "metadata": {
        "id": "fOAnmyc5V2H6"
      },
      "outputs": [],
      "source": [
        "def Hough_Transformation(image, rho, theta, threshold, min_line_len, max_line_gap):\n",
        "    lines = cv2.HoughLinesP(image, rho, theta, threshold, np.array([]), minLineLength=min_line_len, maxLineGap=max_line_gap)\n",
        "    line_image = np.zeros((image.shape[0], image.shape[1], 3), dtype=np.uint8)\n",
        "    Draw_Lines(line_image, lines, thickness=2)\n",
        "\n",
        "    return line_image, lines"
      ]
    },
    {
      "cell_type": "code",
      "execution_count": 6,
      "metadata": {
        "id": "dxl15QqwXPDK"
      },
      "outputs": [],
      "source": [
        "def Merge_Image(line_image, initial_image):\n",
        "  # Check if images are None\n",
        "  if line_image is None or initial_image is None:\n",
        "      raise ValueError(\"One or both input images are None.\")\n",
        "\n",
        "  # Check if images have the same dimensions\n",
        "  if line_image.shape != initial_image.shape:\n",
        "      print(line_image.shape)\n",
        "      print(initial_image.shape)\n",
        "\n",
        "  # Check if images have the same data type\n",
        "  if line_image.dtype != initial_image.dtype:\n",
        "      raise ValueError(\"Input images must have the same data type.\")\n",
        "  return cv2.addWeighted(initial_image, 1.0, line_image, 1.0, 0.0)"
      ]
    },
    {
      "cell_type": "code",
      "execution_count": 7,
      "metadata": {
        "id": "daJAIUnCdH9V"
      },
      "outputs": [],
      "source": [
        "def Plot_Image(image, title, subplot_pos):\n",
        "    plt.subplot(*subplot_pos)\n",
        "    plt.title(title)\n",
        "    if len(image.shape) == 3:\n",
        "        plt.imshow(image)\n",
        "    else:\n",
        "        plt.imshow(image, cmap='gray')"
      ]
    },
    {
      "cell_type": "code",
      "execution_count": 8,
      "metadata": {},
      "outputs": [],
      "source": [
        "def make_line_points(y1, y2, line):\n",
        "\n",
        "    if line is None:\n",
        "        return None\n",
        "    \n",
        "    slope, intercept = line\n",
        "    \n",
        "    # make sure everything is integer as cv2.line requires it\n",
        "    x1 = int((y1 - intercept)/slope)\n",
        "    x2 = int((y2 - intercept)/slope)\n",
        "    y1 = int(y1)\n",
        "    y2 = int(y2)\n",
        "    \n",
        "    return [x1, y1, x2, y2]# ((x1, y1), (x2, y2))"
      ]
    },
    {
      "cell_type": "code",
      "execution_count": 9,
      "metadata": {},
      "outputs": [],
      "source": [
        "def connect_lane_lines(lines, imshape):\n",
        "    try:\n",
        "        left_lines    = [] # (slope, intercept)\n",
        "        left_weights  = [] # (length,)\n",
        "        right_lines   = [] # (slope, intercept)\n",
        "        right_weights = [] # (length,)\n",
        "        \n",
        "        for line in lines:\n",
        "            for x1, y1, x2, y2 in line:\n",
        "                if x2==x1:\n",
        "                    continue # ignore a vertical line\n",
        "                slope = (y2-y1)/(x2-x1)\n",
        "                intercept = y1 - slope*x1\n",
        "                length = np.sqrt((y2-y1)**2+(x2-x1)**2)\n",
        "                if slope < 0: # y is reversed in image\n",
        "                    left_lines.append((slope, intercept))\n",
        "                    left_weights.append((length))\n",
        "                else:\n",
        "                    right_lines.append((slope, intercept))\n",
        "                    right_weights.append((length))\n",
        "        \n",
        "        # add more weight to longer lines    \n",
        "        left_lane  = np.dot(left_weights,  left_lines) /np.sum(left_weights)  if len(left_weights) >0 else None\n",
        "        right_lane = np.dot(right_weights, right_lines)/np.sum(right_weights) if len(right_weights)>0 else None\n",
        "        \n",
        "        y1 = 400 # bottom of the image\n",
        "        y2 = 290         # slightly lower than the middle\n",
        "\n",
        "        left_line  = make_line_points(y1, y2, left_lane)\n",
        "        right_line = make_line_points(y1, y2, right_lane)\n",
        "        \n",
        "        connected_lines = np.int32([[left_line, right_line]])\n",
        "        \n",
        "        return connected_lines # left_line, right_line\n",
        "    except Exception as e:\n",
        "        return None"
      ]
    },
    {
      "cell_type": "code",
      "execution_count": 10,
      "metadata": {},
      "outputs": [],
      "source": [
        "def draw_connected_lane_lines(img, connected_lines):\n",
        "    # Get a copy of the original image\n",
        "    lines_img = np.copy(img)*0\n",
        "    Draw_Lines(lines_img, connected_lines, thickness=12)\n",
        "    \n",
        "    # vertices = []\n",
        "    # l_line, r_line = connected_lines[0][0], connected_lines[0][1]\n",
        "\n",
        "    # vertices.append((l_line[0], l_line[1]))\n",
        "    # vertices.append((l_line[2], l_line[3]))\n",
        "    # vertices.append((r_line[2], l_line[3]))\n",
        "    # vertices.append((r_line[0], r_line[1]))\n",
        "    \n",
        "    # cv2.fillPoly(lines_img, np.int32([vertices]), [0,255,0])\n",
        "    \n",
        "    # Perform image blending\n",
        "    return Merge_Image(lines_img, img)"
      ]
    },
    {
      "cell_type": "code",
      "execution_count": 11,
      "metadata": {
        "id": "0layHnM_XBAg"
      },
      "outputs": [],
      "source": [
        "def Detect_Lane(image, plot_image=False,\n",
        "                kernel_size=5, canny_low_threshold=50, canny_high_threshold=150,\n",
        "                hough_rho=1, hough_theta=np.pi/180, hough_threshold=20,\n",
        "                hough_min_line_len=20, hough_max_line_gap=300):\n",
        "    \n",
        "    # filter to select those white and yellow lines\n",
        "    # white_yellow_image = select_white_yellow(image)\n",
        "    \n",
        "    gray = cv2.cvtColor(image, cv2.COLOR_BGR2GRAY)\n",
        "\n",
        "    # Apply Gaussian blur\n",
        "    gray_blur = cv2.GaussianBlur(gray, (kernel_size, kernel_size), 0)\n",
        "\n",
        "    # Canny Edge Detection\n",
        "    edges = cv2.Canny(gray_blur, canny_low_threshold, canny_high_threshold)\n",
        "\n",
        "    # Concentrate the location of edge detection\n",
        "    image_shape = image.shape\n",
        "    # vertices = vertices = np.array([[(100,image_shape[0]),\n",
        "    #                       (image_shape[1]/2-30, image_shape[0]/2+50),\n",
        "    #                       (image_shape[1]/2+30, image_shape[0]/2+50),\n",
        "    #                       (image_shape[1]-20, image_shape[0])]], dtype=np.int32)\n",
        "    # vertices = np.array([[(535, 415), (1185, 415), (822, 280), (788, 280)]], dtype=np.int32)\n",
        "    \n",
        "    # vertices = np.array([[(290,400),(680, 290), (850, 290), (1150,400)]], dtype=np.int32)\n",
        "    vertices = np.array([[(400,400),(680, 290), (850, 290), (1150,400)]], dtype=np.int32)\n",
        "    masked_edges, mask = Get_Lane_Area(edges, vertices=vertices)\n",
        "\n",
        "    # Detect lines using Hough transform on an edge detected image\n",
        "    lines_image, lines = Hough_Transformation(masked_edges,\n",
        "                                  rho=hough_rho, theta=hough_theta, threshold=hough_threshold,\n",
        "                                  min_line_len=hough_min_line_len, max_line_gap=hough_max_line_gap)\n",
        "\n",
        "    # Merge 'original' image with 'lines' image\n",
        "    result = Merge_Image(lines_image, image)\n",
        "    connected_lines = connect_lane_lines(lines, image_shape)\n",
        "    \n",
        "    # Plot the images\n",
        "    if plot_image:\n",
        "        plt.figure(figsize=[16, 9])\n",
        "        for i, img in enumerate(['gray', 'gray_blur', 'edges', 'mask', 'masked_edges', 'lines_image', 'result']):\n",
        "            Plot_Image(eval(img), img, (4,2, i+1))\n",
        "            plt.axis('off')\n",
        "            plt.show()\n",
        "    return result, connected_lines, gray, gray_blur, edges, masked_edges, lines_image"
      ]
    },
    {
      "cell_type": "code",
      "execution_count": 12,
      "metadata": {},
      "outputs": [],
      "source": [
        "def crop_output(image):\n",
        "    image = image[240:550, 450:1250]\n",
        "    image = cv2.resize(image, (160, 60))\n",
        "    return image"
      ]
    },
    {
      "cell_type": "code",
      "execution_count": 13,
      "metadata": {},
      "outputs": [],
      "source": [
        "def midpoint(x1, y1, x2, y2):\n",
        "    mid_x = (x1 + x2) / 2\n",
        "    mid_y = (y1 + y2) / 2\n",
        "    return (mid_x, mid_y)"
      ]
    },
    {
      "cell_type": "code",
      "execution_count": 14,
      "metadata": {},
      "outputs": [],
      "source": [
        "def process_image(image):\n",
        "    \n",
        "    # Find the lanes\n",
        "    result, connected_lines, gray, gray_blur, edges, mask, lines_image = Detect_Lane(image, plot_image=False,\n",
        "                                    kernel_size=5, canny_low_threshold=50, canny_high_threshold=150,\n",
        "                                    hough_rho=1, hough_theta=np.pi/180, hough_threshold=20,\n",
        "                                    hough_min_line_len=5, hough_max_line_gap=5)\n",
        "    # print(connected_lines)\n",
        "    try:\n",
        "        result1 = draw_connected_lane_lines(np.zeros_like(image), connected_lines)\n",
        "        result2 = crop_output(result1)\n",
        "        # for i, img in enumerate(['image', 'gray', 'gray_blur', 'edges', 'mask', 'lines_image']):\n",
        "        #     Plot_Image(eval(img), img, (4,2, i+1))\n",
        "        #     plt.axis('off')\n",
        "        #     plt.show()\n",
        "    except Exception as e:\n",
        "        # for i, img in enumerate(['image', 'gray', 'gray_blur', 'edges', 'mask', 'lines_image']):\n",
        "        #     Plot_Image(eval(img), img, (4,2, i+1))\n",
        "        #     plt.axis('off')\n",
        "        #     plt.show()\n",
        "        return None, result, lines_image, result, gray\n",
        "            \n",
        "    return connected_lines, result2, lines_image, result, gray"
      ]
    },
    {
      "cell_type": "code",
      "execution_count": 16,
      "metadata": {
        "colab": {
          "base_uri": "https://localhost:8080/",
          "height": 73
        },
        "id": "A4bL2uBrGk98",
        "outputId": "cdabad42-f9d8-4d71-9e11-9886e6684aad"
      },
      "outputs": [],
      "source": [
        "# only run on google colab\n",
        "\n",
        "# uploaded = files.upload()\n",
        "\n",
        "# for filename in uploaded.keys():\n",
        "#   shutil.move(filename, os.path.join(test_video_path, filename))"
      ]
    },
    {
      "cell_type": "code",
      "execution_count": 20,
      "metadata": {},
      "outputs": [],
      "source": [
        "width = 1640\n",
        "height = 590\n",
        "def ReadFile(folder):\n",
        "    DuLieu = []\n",
        "    Label = []\n",
        "    # label = 'wrong' # 'right' | 'wrong'\n",
        "    # for file_path in os.listdir(folder):\n",
        "    #     file_path = os.path.join(folder, file_path)\n",
        "    #     list_filename_path = []\n",
        "    #     label = file_path\n",
        "    #     print(file_path)\n",
        "    #     for filename in os.listdir(file_path):\n",
        "    #         if (\".jpg\" in filename or \".png\" in filename):\n",
        "    #             filename_path = os.path.join(file_path, filename)\n",
        "    #             img = numpy.array(Image.open(filename_path))\n",
        "    #             img = cv2.resize(img, (width, height))\n",
        "    #             list_filename_path.append(img)\n",
        "    #             Label.append(dict[(label)])\n",
        "    #     DuLieu.extend(list_filename_path)\n",
        "    list_filename_path = []\n",
        "    file_path = os.path.join(folder, 'right_lane') # right | wrong\n",
        "    for filename in os.listdir(file_path):\n",
        "        if (\".jpg\" in filename or \".png\" in filename):\n",
        "            filename_path = os.path.join(file_path, filename)\n",
        "            img = numpy.array(Image.open(filename_path))\n",
        "            img = cv2.resize(img, (width, height))\n",
        "            list_filename_path.append(img)\n",
        "            # Label.append(dict[(label)])\n",
        "    DuLieu.extend(list_filename_path)\n",
        "    return DuLieu, Label"
      ]
    },
    {
      "cell_type": "code",
      "execution_count": 16,
      "metadata": {},
      "outputs": [],
      "source": [
        "import numpy\n",
        "from PIL import Image"
      ]
    },
    {
      "cell_type": "code",
      "execution_count": 21,
      "metadata": {},
      "outputs": [
        {
          "name": "stdout",
          "output_type": "stream",
          "text": [
            "1056\n",
            "(590, 1640, 3)\n"
          ]
        }
      ],
      "source": [
        "LANE = 'lane/'\n",
        "XTrain, YTrain = ReadFile(LANE)\n",
        "print(len(XTrain))\n",
        "print(XTrain[0].shape)\n",
        "# plt.imshow(XTrain[0])\n"
      ]
    },
    {
      "cell_type": "code",
      "execution_count": null,
      "metadata": {
        "id": "PFvB-_SSd0vW"
      },
      "outputs": [],
      "source": [
        "output_folder_r = 'lane_data/right'\n",
        "output_folder_w = 'lane_data/wrong'\n",
        "\n",
        "os.makedirs(output_folder_r, exist_ok=True)\n",
        "os.makedirs(output_folder_w, exist_ok=True)\n",
        "\n",
        "count = 0\n",
        "\n",
        "for i in XTrain:\n",
        "    try:\n",
        "        connected_lines, result, lines_image, image_pre, edges = process_image(i)\n",
        "        if connected_lines is None:\n",
        "            continue\n",
        "            # print(\"can't find lane\")\n",
        "        else:\n",
        "            image_name = f\"result_b1r{count}.jpg\"  # Tên file\n",
        "            image_path = os.path.join(output_folder_r, image_name)  # Đường dẫn đầy đủ\n",
        "            cv2.imwrite(image_path, result)  # Lưu hình ảnh\n",
        "            count = count + 1\n",
        "            # print(connected_lines)\n",
        "            # plt.imshow(edges)\n",
        "            # plt.show()\n",
        "            # plt.imshow(image_pre)\n",
        "            # plt.show()\n",
        "            # plt.imshow(lines_image)\n",
        "            # plt.show()\n",
        "            # plt.imshow(result)\n",
        "            # plt.show()\n",
        " \n",
        "    except Exception as e:\n",
        "        # print(e)\n",
        "        continue\n",
        "    \n",
        "print(count)"
      ]
    }
  ],
  "metadata": {
    "colab": {
      "provenance": []
    },
    "kernelspec": {
      "display_name": "Python 3",
      "name": "python3"
    },
    "language_info": {
      "codemirror_mode": {
        "name": "ipython",
        "version": 3
      },
      "file_extension": ".py",
      "mimetype": "text/x-python",
      "name": "python",
      "nbconvert_exporter": "python",
      "pygments_lexer": "ipython3",
      "version": "3.12.0"
    }
  },
  "nbformat": 4,
  "nbformat_minor": 0
}
