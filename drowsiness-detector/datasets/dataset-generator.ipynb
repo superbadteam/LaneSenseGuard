{
 "cells": [
  {
   "cell_type": "markdown",
   "metadata": {},
   "source": [
    "Import dependencies"
   ]
  },
  {
   "cell_type": "code",
   "execution_count": 48,
   "metadata": {},
   "outputs": [],
   "source": [
    "from dotenv import load_dotenv\n",
    "from pathlib import Path\n",
    "import os\n",
    "import csv\n",
    "import cv2\n",
    "import pandas as pd\n",
    "import numpy as np\n",
    "import matplotlib.pyplot as plt\n",
    "import sys\n",
    "sys.path.append('../')\n",
    "import constants\n"
   ]
  },
  {
   "cell_type": "markdown",
   "metadata": {},
   "source": [
    "Load .env file"
   ]
  },
  {
   "cell_type": "code",
   "execution_count": 7,
   "metadata": {},
   "outputs": [
    {
     "data": {
      "text/plain": [
       "True"
      ]
     },
     "execution_count": 7,
     "metadata": {},
     "output_type": "execute_result"
    }
   ],
   "source": [
    "dotenv_path = Path('../../.env')\n",
    "load_dotenv(dotenv_path=dotenv_path)"
   ]
  },
  {
   "cell_type": "markdown",
   "metadata": {},
   "source": [
    "Read from .env file"
   ]
  },
  {
   "cell_type": "code",
   "execution_count": 19,
   "metadata": {},
   "outputs": [
    {
     "name": "stdout",
     "output_type": "stream",
     "text": [
      "/Users/phuc1403/Downloads/untitled folder\n"
     ]
    }
   ],
   "source": [
    "DATASET_IMAGE_PATH = os.getenv('DATASET_IMAGE_PATH')\n",
    "\n",
    "print(DATASET_IMAGE_PATH)"
   ]
  },
  {
   "cell_type": "markdown",
   "metadata": {},
   "source": [
    "Generate custom-dataset.csv"
   ]
  },
  {
   "cell_type": "code",
   "execution_count": 24,
   "metadata": {},
   "outputs": [],
   "source": [
    "csv_file = \"./custom-dataset.csv\"\n",
    "\n",
    "labels = [\"open\", \"close\"]\n",
    "\n",
    "with open(csv_file, 'w', newline='') as file:\n",
    "    writer = csv.writer(file)\n",
    "    writer.writerow([\"state\", \"image\"])\n",
    "\n",
    "    # Lặp qua từng nhãn\n",
    "    for label in labels:\n",
    "        folder_path = os.path.join(DATASET_IMAGE_PATH, label)\n",
    "\n",
    "        # Lặp qua tất cả các file trong thư mục\n",
    "        for filename in os.listdir(folder_path):\n",
    "            if filename.endswith(\".jpg\") or filename.endswith(\".png\") or filename.endswith(\".jpeg\"):\n",
    "                img_path = os.path.join(folder_path, filename)\n",
    "\n",
    "                # Đọc ảnh từ file\n",
    "                img = cv2.imread(img_path, cv2.IMREAD_GRAYSCALE)  # Đọc ảnh dưới dạng ảnh xám\n",
    "\n",
    "                # Chuyển đổi ma trận ảnh thành một chuỗi của các giá trị pixel\n",
    "                img_str = str(img.flatten().tolist())\n",
    "\n",
    "                # Ghi dữ liệu vào file CSV\n",
    "                writer.writerow([label, img_str])"
   ]
  },
  {
   "cell_type": "markdown",
   "metadata": {},
   "source": [
    "Print the first image from custom-dataset.csv"
   ]
  },
  {
   "cell_type": "code",
   "execution_count": 49,
   "metadata": {},
   "outputs": [
    {
     "data": {
      "image/png": "[encoded data removed]",
      "text/plain": [
       "<Figure size 640x480 with 1 Axes>"
      ]
     },
     "metadata": {},
     "output_type": "display_data"
    }
   ],
   "source": [
    "# Read the CSV file\n",
    "df = pd.read_csv(csv_file)\n",
    "\n",
    "# Extract the image data of the first image from the CSV file\n",
    "image_data_str = df.loc[0, 'image']\n",
    "\n",
    "# Convert the string image data to a NumPy array\n",
    "image_data = np.array(eval(image_data_str))\n",
    "\n",
    "# Reshape the NumPy array to the original image dimensions\n",
    "image = image_data.reshape((constants.image_height, constants.image_width))\n",
    "\n",
    "# Display the image using Matplotlib\n",
    "plt.imshow(image, cmap='gray')\n",
    "plt.axis('off')  # Turn off axis\n",
    "plt.title('First Image')\n",
    "plt.show()\n"
   ]
  },
  {
   "cell_type": "markdown",
   "metadata": {},
   "source": [
    "Merge custom-dataset.csv with dataset.csv"
   ]
  },
  {
   "cell_type": "code",
   "execution_count": 43,
   "metadata": {},
   "outputs": [],
   "source": [
    "base_csv_file = \"./base-dataset.csv\"\n",
    "\n",
    "# Đọc hai tập dữ liệu CSV vào DataFrame của pandas\n",
    "df_custom = pd.read_csv(csv_file)\n",
    "df_base = pd.read_csv(base_csv_file)\n",
    "\n",
    "# Ghép hai DataFrame lại với nhau\n",
    "df_combined = pd.concat([df_custom, df_base], ignore_index=True)\n",
    "\n",
    "# Lưu DataFrame kết quả thành một tập dữ liệu CSV mới\n",
    "csv_file_combined = \"./dataset.csv\"\n",
    "df_combined.to_csv(csv_file_combined, index=False)"
   ]
  }
 ],
 "metadata": {
  "kernelspec": {
   "display_name": "base",
   "language": "python",
   "name": "python3"
  },
  "language_info": {
   "codemirror_mode": {
    "name": "ipython",
    "version": 3
   },
   "file_extension": ".py",
   "mimetype": "text/x-python",
   "name": "python",
   "nbconvert_exporter": "python",
   "pygments_lexer": "ipython3",
   "version": "3.11.8"
  }
 },
 "nbformat": 4,
 "nbformat_minor": 2
}
