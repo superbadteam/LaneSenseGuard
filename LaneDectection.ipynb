{
  "cells": [
    {
      "cell_type": "code",
      "execution_count": 10,
      "metadata": {
        "id": "YeKq66CdLHsP"
      },
      "outputs": [],
      "source": [
        "import matplotlib.image as mpimg\n",
        "import matplotlib.pyplot as plt\n",
        "# from google.colab import files\n",
        "import numpy as np\n",
        "import shutil\n",
        "import math\n",
        "import cv2\n",
        "import os"
      ]
    },
    {
      "cell_type": "code",
      "execution_count": 11,
      "metadata": {
        "id": "U_4THDms_aW3"
      },
      "outputs": [],
      "source": [
        "def Timestamp_To_Seconds(timestamp):\n",
        "    # Split the timestamp into hours, minutes, and seconds\n",
        "    parts = timestamp.split(':')\n",
        "    hours = int(parts[0])\n",
        "    minutes = int(parts[1])\n",
        "    seconds = int(parts[2])\n",
        "\n",
        "    # Convert timestamp to seconds\n",
        "    total_seconds = hours * 3600 + minutes * 60 + seconds\n",
        "\n",
        "    return total_seconds"
      ]
    },
    {
      "cell_type": "code",
      "execution_count": 3,
      "metadata": {
        "id": "cYP-vY2H6TBl"
      },
      "outputs": [],
      "source": [
        "def Extract_Frame(video_path, output_path, timestamp):\n",
        "    # Open the video file\n",
        "    cap = cv2.VideoCapture(video_path)\n",
        "\n",
        "    if not cap.isOpened():\n",
        "        print(\"Error: Could not open the video.\")\n",
        "        return None\n",
        "\n",
        "    # Convert timestamp to seconds\n",
        "    timestamp_sec = Timestamp_To_Seconds(timestamp)\n",
        "\n",
        "    # Set the video's position to the desired timestamp\n",
        "    cap.set(cv2.CAP_PROP_POS_MSEC, timestamp_sec * 1000)\n",
        "\n",
        "    # Read the frame at the desired timestamp\n",
        "    ret, frame = cap.read()\n",
        "\n",
        "    if not ret:\n",
        "        print(\"Error: Could not read frame.\")\n",
        "        return None\n",
        "\n",
        "    cv2.imwrite(output_path, frame, [cv2.IMWRITE_PNG_COMPRESSION, 0])\n",
        "\n",
        "    # Release the video capture object\n",
        "    cap.release()"
      ]
    },
    {
      "cell_type": "code",
      "execution_count": 13,
      "metadata": {
        "id": "lemaH5wQUMlq"
      },
      "outputs": [],
      "source": [
        "def Get_Lane_Area(image, vertices):\n",
        "  mask = np.zeros_like(image)\n",
        "\n",
        "  if len(image.shape) > 2:\n",
        "        channel_count = image.shape[2]\n",
        "        ignore_mask_color = (255,) * channel_count\n",
        "  else:\n",
        "        ignore_mask_color = 255\n",
        "\n",
        "  cv2.fillPoly(mask, vertices, ignore_mask_color)\n",
        "  masked_image = cv2.bitwise_and(image, mask)\n",
        "\n",
        "  return masked_image, mask"
      ]
    },
    {
      "cell_type": "code",
      "execution_count": 14,
      "metadata": {
        "id": "Bgj7k6xhXiHc"
      },
      "outputs": [],
      "source": [
        "def Draw_Lines(image, lines, color=[255, 0, 0], thickness=12):\n",
        "  for line in lines:\n",
        "        for x1, y1, x2, y2 in line:\n",
        "            cv2.line(image, (x1, y1), (x2, y2), color, thickness)"
      ]
    },
    {
      "cell_type": "code",
      "execution_count": 16,
      "metadata": {
        "id": "fOAnmyc5V2H6"
      },
      "outputs": [],
      "source": [
        "def Hough_Transformation(image, rho, theta, threshold, min_line_len, max_line_gap):\n",
        "    lines = cv2.HoughLinesP(image, rho, theta, threshold, np.array([]), minLineLength=min_line_len, maxLineGap=max_line_gap)\n",
        "    line_image = np.zeros((image.shape[0], image.shape[1], 3), dtype=np.uint8)\n",
        "    Draw_Lines(line_image, lines, thickness=2)\n",
        "\n",
        "    return line_image, lines"
      ]
    },
    {
      "cell_type": "code",
      "execution_count": 17,
      "metadata": {
        "id": "dxl15QqwXPDK"
      },
      "outputs": [],
      "source": [
        "def Merge_Image(line_image, initial_image):\n",
        "  # Check if images are None\n",
        "  if line_image is None or initial_image is None:\n",
        "      raise ValueError(\"One or both input images are None.\")\n",
        "\n",
        "  # Check if images have the same dimensions\n",
        "  if line_image.shape != initial_image.shape:\n",
        "      print(line_image.shape)\n",
        "      print(initial_image.shape)\n",
        "\n",
        "  # Check if images have the same data type\n",
        "  if line_image.dtype != initial_image.dtype:\n",
        "      raise ValueError(\"Input images must have the same data type.\")\n",
        "  return cv2.addWeighted(initial_image, 1.0, line_image, 1.0, 0.0)"
      ]
    },
    {
      "cell_type": "code",
      "execution_count": 18,
      "metadata": {
        "id": "daJAIUnCdH9V"
      },
      "outputs": [],
      "source": [
        "def Plot_Image(image, title):\n",
        "  plt.title(title)\n",
        "  if len(image.shape) == 3:\n",
        "      plt.imshow(image)\n",
        "  else:\n",
        "      plt.imshow(image, cmap='gray')"
      ]
    },
    {
      "cell_type": "code",
      "execution_count": 19,
      "metadata": {
        "id": "0layHnM_XBAg"
      },
      "outputs": [],
      "source": [
        "def Detect_Lane(image, plot_image=False,\n",
        "                kernel_size=5, canny_low_threshold=50, canny_high_threshold=150,\n",
        "                hough_rho=1, hough_theta=np.pi/180, hough_threshold=15,\n",
        "                hough_min_line_len=20, hough_max_line_gap=500):\n",
        "\n",
        "    # Convert to gray scale\n",
        "    gray = cv2.cvtColor(image, cv2.COLOR_BGR2GRAY)\n",
        "\n",
        "    # Apply Gaussian blur\n",
        "    gray_blur = cv2.GaussianBlur(gray, (kernel_size, kernel_size), 0)\n",
        "\n",
        "    # Canny Edge Detection\n",
        "    edges = cv2.Canny(gray_blur, canny_low_threshold, canny_high_threshold)\n",
        "\n",
        "    # Concentrate the location of edge detection\n",
        "    image_shape = image.shape\n",
        "    vertices = np.array([[(100,image_shape[0]),\n",
        "                          (image_shape[1]/2-30, image_shape[0]/2+50),\n",
        "                          (image_shape[1]/2+30, image_shape[0]/2+50),\n",
        "                          (image_shape[1]-20, image_shape[0])]], dtype=np.int32)\n",
        "\n",
        "    masked_edges, mask = Get_Lane_Area(edges, vertices=vertices)\n",
        "\n",
        "    # Detect lines using Hough transform on an edge detected image\n",
        "    lines_image, lines = Hough_Transformation(masked_edges,\n",
        "                                  rho=hough_rho, theta=hough_theta, threshold=hough_threshold,\n",
        "                                  min_line_len=hough_min_line_len, max_line_gap=hough_max_line_gap)\n",
        "\n",
        "    # Merge 'original' image with 'lines' image\n",
        "    result = Merge_Image(lines_image, image)\n",
        "\n",
        "    # Plot the images\n",
        "    if plot_image:\n",
        "        plt.figure(figsize=[16, 9])\n",
        "        for i, img in enumerate(['gray', 'gray_blur', 'edges', 'mask', 'masked_edges', 'lines_image', 'result']):\n",
        "            Plot_Image(eval(img), img,)\n",
        "            plt.show()\n",
        "    return result, lines\n"
      ]
    },
    {
      "cell_type": "code",
      "execution_count": 20,
      "metadata": {
        "id": "IbHehozwnwcV"
      },
      "outputs": [],
      "source": [
        "def Connect_Lane_line(lines, imshape):\n",
        "  try:\n",
        "      # Vectorise the lines representation\n",
        "      lines = np.squeeze(lines)\n",
        "\n",
        "      # Compute the slope and length of line segments\n",
        "      m = (lines[:,3] - lines[:,1]) / (lines[:,2] - lines[:,0])\n",
        "      lengths = np.sqrt((lines[:,3] - lines[:,1])**2 + (lines[:,2] - lines[:,0])**2)\n",
        "\n",
        "      # Get rid of outliers\n",
        "      mask = np.abs(m) > 0.5\n",
        "      lines, m, lengths = lines[mask], m[mask], lengths[mask]\n",
        "\n",
        "      # Perform classification\n",
        "      l_lines, r_lines = lines[m < 0, :], lines[m > 0, :]\n",
        "      l_m, r_m = m[m < 0], m[m > 0]\n",
        "      l_lengths, r_lengths = lengths[m < 0], lengths[m > 0]\n",
        "\n",
        "      # Get sorted args for the classified line segments based on their lengths\n",
        "      # so we can determine the best candidates for lane detection.\n",
        "      l_sorted_args, r_sorted_args = np.argsort(l_lengths), np.argsort(r_lengths)\n",
        "\n",
        "      # Compute the slope and intercepts from the best candidates\n",
        "      n = -5\n",
        "      l_avgm, r_avgm = l_m[l_sorted_args][n::].mean(), r_m[r_sorted_args][n:].mean()\n",
        "\n",
        "      l_x, l_y = np.concatenate([l_lines[:,0],l_lines[:,2]]), np.concatenate([l_lines[:,1],l_lines[:,3]])\n",
        "      r_x, r_y = np.concatenate([r_lines[:,0],r_lines[:,2]]), np.concatenate([r_lines[:,1],r_lines[:,3]])\n",
        "\n",
        "      l_b = l_y - (l_avgm * l_x)\n",
        "      r_b = r_y - (r_avgm * r_x)\n",
        "      l_avgb, r_avgb = l_b[l_sorted_args][n:].mean(), r_b[r_sorted_args][n:].mean()\n",
        "\n",
        "      # Determine the L&R lane endpoints\n",
        "      y1 = imshape[0]/1.5\n",
        "      l_x1 = (y1 - l_avgb) / l_avgm\n",
        "      y2 = imshape[0]\n",
        "      l_x2 = (y2 - l_avgb) / l_avgm\n",
        "\n",
        "      r_x1 = (y1 - r_avgb) / r_avgm\n",
        "      r_x2 = (y2 - r_avgb) / r_avgm\n",
        "\n",
        "      connected_lines = np.int32([[[l_x1,y1,l_x2,y2], [r_x1,y1,r_x2,y2]]])\n",
        "      return connected_lines\n",
        "  except Exception as e:\n",
        "      print(e)"
      ]
    },
    {
      "cell_type": "code",
      "execution_count": 21,
      "metadata": {
        "id": "PqKySYhpysUA"
      },
      "outputs": [],
      "source": [
        "def Process_Video(input_video_path, output_video_path):\n",
        "    cap = cv2.VideoCapture(input_video_path)\n",
        "\n",
        "    if not cap.isOpened():\n",
        "        print(\"Error: Không thể mở video.\")\n",
        "        return\n",
        "\n",
        "    # Get video information\n",
        "    frame_width = int(cap.get(cv2.CAP_PROP_FRAME_WIDTH))\n",
        "    frame_height = int(cap.get(cv2.CAP_PROP_FRAME_HEIGHT))\n",
        "    fps = int(cap.get(cv2.CAP_PROP_FPS))\n",
        "    total_frames = int(cap.get(cv2.CAP_PROP_FRAME_COUNT))\n",
        "\n",
        "    # Create an output video\n",
        "    fourcc = cv2.VideoWriter_fourcc(*'mp4v')\n",
        "    out = cv2.VideoWriter(output_video_path, fourcc, fps, (frame_width, frame_height))\n",
        "\n",
        "    # Process each frame\n",
        "    while cap.isOpened():\n",
        "        ret, frame = cap.read()\n",
        "\n",
        "        if not ret:\n",
        "            break\n",
        "\n",
        "        # Draw lane lines on a frame\n",
        "        result, lines = Detect_Lane(frame)\n",
        "\n",
        "        # Write processed frame into the ouput video\n",
        "        out.write(result)\n",
        "\n",
        "    # Free resources\n",
        "    cap.release()\n",
        "    out.release()\n",
        "    cv2.destroyAllWindows()"
      ]
    },
    {
      "cell_type": "code",
      "execution_count": 22,
      "metadata": {
        "id": "bAkEki1HAEob"
      },
      "outputs": [],
      "source": [
        "lane_image_path = 'lane_img/'\n",
        "result_image_path = 'img_result/'\n",
        "test_video_path = 'test_video/'\n",
        "result_video_path ='video_result/'\n",
        "\n",
        "if not os.path.exists(lane_image_path):\n",
        "    os.mkdir(lane_image_path)\n",
        "\n",
        "if not os.path.exists(result_image_path):\n",
        "    os.mkdir(result_image_path)\n",
        "\n",
        "if not os.path.exists(test_video_path):\n",
        "    os.mkdir(test_video_path)\n",
        "\n",
        "if not os.path.exists(result_video_path):\n",
        "    os.mkdir(result_video_path)"
      ]
    },
    {
      "cell_type": "code",
      "execution_count": 25,
      "metadata": {
        "colab": {
          "base_uri": "https://localhost:8080/",
          "height": 73
        },
        "id": "A4bL2uBrGk98",
        "outputId": "cdabad42-f9d8-4d71-9e11-9886e6684aad"
      },
      "outputs": [],
      "source": [
        "# only run on google colab\n",
        "\n",
        "# uploaded = files.upload()\n",
        "\n",
        "# for filename in uploaded.keys():\n",
        "#   shutil.move(filename, os.path.join(test_video_path, filename))"
      ]
    },
    {
      "cell_type": "code",
      "execution_count": 24,
      "metadata": {
        "id": "A9YTCFM6-CyS"
      },
      "outputs": [
        {
          "name": "stdout",
          "output_type": "stream",
          "text": [
            "Error: Không thể mở video.\n"
          ]
        }
      ],
      "source": [
        "input_video_path = os.path.join(test_video_path, input('Enter test video name: '))\n",
        "output_video_path = os.path.join(result_video_path, input('Enter result video name: '))\n",
        "\n",
        "# Xử lý video và tạo video kết quả\n",
        "Process_Video(input_video_path, output_video_path)"
      ]
    },
    {
      "cell_type": "code",
      "execution_count": null,
      "metadata": {
        "id": "xZZDuAb9BGZI"
      },
      "outputs": [],
      "source": [
        "# Extract a frame from the video\n",
        "'''\n",
        "video_name = 'test_lane_video2.mp4'\n",
        "image_name = 'lane_image1.jpg'\n",
        "video_path = os.path.join(test_video_path, video_name)\n",
        "output_path = os.path.join(lane_image_path, image_name)\n",
        "\n",
        "timestamp = '0:0:8'\n",
        "Extract_Frame(video_path, output_path, timestamp)\n",
        "'''"
      ]
    },
    {
      "cell_type": "code",
      "execution_count": null,
      "metadata": {
        "id": "fcH7rrezcmCR"
      },
      "outputs": [],
      "source": [
        "# read all image from 'lane_img/' and append them to a list\n",
        "'''\n",
        "image_names = os.listdir(lane_image_path)\n",
        "\n",
        "image_list = []\n",
        "for image_name in image_names:\n",
        "  image_path = os.path.join(lane_image_path, image_name)\n",
        "  if os.path.isfile(image_path):\n",
        "      image = mpimg.imread(image_path)\n",
        "      image_list.append(image)\n",
        "for image in image_list:\n",
        "  print(image.shape)\n",
        "  plt.imshow(image)\n",
        "  plt.show()\n",
        "'''"
      ]
    },
    {
      "cell_type": "code",
      "execution_count": null,
      "metadata": {
        "id": "PFvB-_SSd0vW"
      },
      "outputs": [],
      "source": [
        "# Process all image from a list and save result into 'img_result'\n",
        "'''\n",
        "for _, imgname in enumerate(image_names):\n",
        "    img_path = os.path.join(lane_image_path, imgname)\n",
        "    if os.path.isfile(img_path):\n",
        "        img = mpimg.imread(img_path)\n",
        "        result,_ = Detect_Lane(img, plot_image=True)\n",
        "        mpimg.imsave(os.path.join(result_image_path, imgname), result)\n",
        "    else:\n",
        "        print(f\"Skipping {img_path} as it's not a file.\")\n",
        "'''"
      ]
    }
  ],
  "metadata": {
    "colab": {
      "provenance": []
    },
    "kernelspec": {
      "display_name": "Python 3",
      "name": "python3"
    },
    "language_info": {
      "codemirror_mode": {
        "name": "ipython",
        "version": 3
      },
      "file_extension": ".py",
      "mimetype": "text/x-python",
      "name": "python",
      "nbconvert_exporter": "python",
      "pygments_lexer": "ipython3",
      "version": "3.12.0"
    }
  },
  "nbformat": 4,
  "nbformat_minor": 0
}
