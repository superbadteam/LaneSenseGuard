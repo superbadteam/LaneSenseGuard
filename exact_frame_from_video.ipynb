{
 "cells": [
  {
   "cell_type": "code",
   "execution_count": 42,
   "metadata": {},
   "outputs": [],
   "source": [
    "# import cv2\n",
    "import cv2\n",
    "import pickle\n",
    "from PIL import Image\n",
    "import matplotlib.pyplot as plt\n",
    "import os"
   ]
  },
  {
   "cell_type": "code",
   "execution_count": 5,
   "metadata": {},
   "outputs": [],
   "source": [
    "def Timestamp_To_Seconds(timestamp):\n",
    "    # Split the timestamp into hours, minutes, and seconds\n",
    "    parts = timestamp.split(':')\n",
    "    hours = int(parts[0])\n",
    "    minutes = int(parts[1])\n",
    "    seconds = int(parts[2])\n",
    "\n",
    "    # Convert timestamp to seconds\n",
    "    total_seconds = hours * 3600 + minutes * 60 + seconds\n",
    "\n",
    "    return total_seconds"
   ]
  },
  {
   "cell_type": "code",
   "execution_count": 40,
   "metadata": {},
   "outputs": [],
   "source": [
    "def Extract_Frame(video_path, output_path, timestamp):\n",
    "\n",
    "    # Đọc video\n",
    "    cap = cv2.VideoCapture(video_path)\n",
    "\n",
    "    if not cap.isOpened():\n",
    "        print(\"Không thể mở video.\")\n",
    "        return\n",
    "\n",
    "    # Đọc frame đầu tiên\n",
    "    ret, frame = cap.read()\n",
    "\n",
    "    # Kiểm tra nếu video được mở thành công\n",
    "    if not ret:\n",
    "        print(\"Không thể đọc frame từ video.\")\n",
    "        return\n",
    "\n",
    "     # Tính số lượng frame mỗi giây\n",
    "    fps = cap.get(cv2.CAP_PROP_FPS)\n",
    "\n",
    "    # Tính toán số frame cần bỏ qua giữa mỗi lần lưu frame\n",
    "    frames_to_skip = int(fps)\n",
    "\n",
    "    # Đọc frame đầu tiên\n",
    "    ret, frame = cap.read()\n",
    "\n",
    "    count = 0\n",
    "    while True:\n",
    "       \n",
    "        # Đọc frame tiếp theo\n",
    "        ret, frame = cap.read()\n",
    "\n",
    "\n",
    "        if ret:\n",
    "            name = f'frame{count}.jpg'\n",
    "\n",
    "            # check if output path is not create then create it\n",
    "            if not os.path.exists(output_path):\n",
    "                os.makedirs(output_path)\n",
    "\n",
    "            path = output_path + name\n",
    "            print(f\"Creating file... {name}\")\n",
    "            if not cv2.imwrite(path, frame):\n",
    "                print(f\"Could not write image {name}\")\n",
    "                break\n",
    "            count += 1\n",
    "        \n",
    "         # Bỏ qua số frame cần thiết\n",
    "        for _ in range(frames_to_skip):\n",
    "            ret, _ = cap.read()\n",
    "\n",
    "        if not ret:\n",
    "            break\n",
    "\n",
    "    # Giải phóng tài nguyên\n",
    "    cap.release()\n",
    "    cv2.destroyAllWindows()"
   ]
  },
  {
   "cell_type": "code",
   "execution_count": 41,
   "metadata": {},
   "outputs": [
    {
     "name": "stdout",
     "output_type": "stream",
     "text": [
      "Creating file... frame0.jpg\n",
      "Creating file... frame1.jpg\n",
      "Creating file... frame2.jpg\n",
      "Creating file... frame3.jpg\n",
      "Creating file... frame4.jpg\n",
      "Creating file... frame5.jpg\n",
      "Creating file... frame6.jpg\n",
      "Creating file... frame7.jpg\n",
      "Creating file... frame8.jpg\n",
      "Creating file... frame9.jpg\n",
      "Creating file... frame10.jpg\n",
      "Creating file... frame11.jpg\n",
      "Creating file... frame12.jpg\n",
      "Creating file... frame13.jpg\n",
      "Creating file... frame14.jpg\n",
      "Creating file... frame15.jpg\n",
      "Creating file... frame16.jpg\n",
      "Creating file... frame17.jpg\n",
      "Creating file... frame18.jpg\n",
      "Creating file... frame19.jpg\n",
      "Creating file... frame20.jpg\n",
      "Creating file... frame21.jpg\n",
      "Creating file... frame22.jpg\n",
      "Creating file... frame23.jpg\n",
      "Creating file... frame24.jpg\n",
      "Creating file... frame25.jpg\n",
      "Creating file... frame26.jpg\n"
     ]
    }
   ],
   "source": [
    "# run it\n",
    "# output_path = \"exacted\"\n",
    "output_path = \"exacted/\"\n",
    "Extract_Frame(\"test_lane_video3.mp4\", output_path, \"00:00:27\")"
   ]
  }
 ],
 "metadata": {
  "kernelspec": {
   "display_name": "venv",
   "language": "python",
   "name": "python3"
  },
  "language_info": {
   "codemirror_mode": {
    "name": "ipython",
    "version": 3
   },
   "file_extension": ".py",
   "mimetype": "text/x-python",
   "name": "python",
   "nbconvert_exporter": "python",
   "pygments_lexer": "ipython3",
   "version": "3.12.2"
  }
 },
 "nbformat": 4,
 "nbformat_minor": 2
}
