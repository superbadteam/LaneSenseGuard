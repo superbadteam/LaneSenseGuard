{
 "cells": [
  {
   "cell_type": "code",
   "execution_count": null,
   "metadata": {},
   "outputs": [],
   "source": [
    "import numpy\n",
    "import os\n",
    "import cv2\n",
    "import time\n",
    "import matplotlib.pyplot\n",
    "from PIL import Image\n",
    "from tensorflow import keras\n",
    "import tensorflow\n",
    "from tensorflow.keras import layers\n",
    "from tensorflow.keras import models\n",
    "from sklearn.model_selection import train_test_split\n",
    "from tensorflow.keras.optimizers import Adam"
   ]
  },
  {
   "cell_type": "code",
   "execution_count": null,
   "metadata": {},
   "outputs": [],
   "source": [
    "width = 160\n",
    "height = 60\n",
    "TRAIN_DATA = 'lane/train'\n",
    "VAL_DATA = 'lane/val'\n",
    "\n",
    "Xtrain =[]\n",
    "Ytrain = []\n",
    "# one-host encoding\n",
    "dict = {'right': [1, 0], 'wrong': [0, 1]}"
   ]
  },
  {
   "cell_type": "code",
   "execution_count": null,
   "metadata": {},
   "outputs": [],
   "source": [
    "def rotate_image(image, label):\n",
    "    list_image = []\n",
    "    list_label = []\n",
    "    count = 0\n",
    "    center = (width // 2, height // 2)\n",
    "    for distance in range (-8, 10, 2):\n",
    "        translated_image = cv2.warpAffine(image, numpy.float32([[1, 0, distance], [0, 1, 0]]) , (width, height))\n",
    "        for degrees in range(-15, 20, 5):\n",
    "            distance_rotated_image = cv2.warpAffine(translated_image, cv2.getRotationMatrix2D(center, degrees, 1.0), (width, height))\n",
    "            list_image.append(distance_rotated_image)\n",
    "            list_label.append(label)\n",
    "            count = count + 1\n",
    "    return list_image, list_label"
   ]
  },
  {
   "cell_type": "code",
   "execution_count": null,
   "metadata": {},
   "outputs": [],
   "source": [
    "def ReadData(file):\n",
    "    Data = []\n",
    "    Label = []\n",
    "    label = ''\n",
    "    for folderName in os.listdir(file):\n",
    "        filename_path = os.path.join(file, folderName)\n",
    "        list_filename_sub_path = []\n",
    "        label = folderName\n",
    "        for filename_sub in os.listdir(filename_path):\n",
    "            if (\".jpg\" in filename_sub or \".png\" in filename_sub):\n",
    "                filename_sub_path = os.path.join(filename_path, filename_sub)\n",
    "                img = numpy.array(Image.open(filename_sub_path))\n",
    "                img = cv2.resize(img, (width, height))\n",
    "                img = cv2.cvtColor(img, cv2.COLOR_BGR2GRAY)\n",
    "                list_rotate_image, list_label = rotate_image(img, dict[(label)])\n",
    "                list_filename_sub_path.extend(list_rotate_image)\n",
    "                Label.extend(list_label)\n",
    "        Data.extend(list_filename_sub_path)\n",
    "    return Data, Label\n"
   ]
  },
  {
   "cell_type": "code",
   "execution_count": null,
   "metadata": {},
   "outputs": [],
   "source": [
    "Xtrain, Ytrain = ReadData(TRAIN_DATA)\n",
    "Xval, Yval = ReadData(VAL_DATA)"
   ]
  },
  {
   "cell_type": "code",
   "execution_count": null,
   "metadata": {},
   "outputs": [],
   "source": [
    "model = models.Sequential([\n",
    "    layers.Conv2D(4, (3, 3), input_shape=(height, width, 1), activation = 'relu'),\n",
    "    layers.MaxPool2D((2, 2)),\n",
    "    layers.Dropout(0.15),\n",
    "    \n",
    "    layers.Conv2D(8, (3, 3), activation = 'relu'),\n",
    "    layers.MaxPool2D((2, 2)),\n",
    "    layers.Dropout(0.2),\n",
    "\n",
    "    layers.Conv2D(16, (3, 3), activation = 'relu'),\n",
    "    layers.MaxPool2D((2, 2)),\n",
    "    layers.Dropout(0.2),\n",
    "\n",
    "    layers.Flatten(),\n",
    "    layers.Dense(2000, activation = 'relu'),\n",
    "    layers.Dense(1000, activation = 'relu'),\n",
    "    layers.Dense(500, activation = 'relu'),\n",
    "    layers.Dense(100, activation = 'relu'),\n",
    "    layers.Dense(2, activation = 'softmax'),\n",
    "])\n",
    "\n",
    "model.summary()\n",
    "adam = Adam(learning_rate=0.001, beta_1=0.9)\n",
    "model.compile(optimizer=adam,\n",
    "                             loss='mse',\n",
    "                             metrics=['accuracy'])\n",
    "\n",
    "early_callback = tensorflow.keras.callbacks.EarlyStopping(monitor=\"loss\", min_delta= 0 , patience=10, verbose=1, mode=\"auto\")\n",
    "\n",
    "history = model.fit(numpy.array(Xtrain), numpy.array(Ytrain), validation_data = (numpy.array(Xval), numpy.array(Yval)), epochs=300, batch_size=1200,\n",
    "                         callbacks = [early_callback],\n",
    "                         verbose=True)\n",
    "\n",
    "model.save('model_trained.h5')"
   ]
  },
  {
   "cell_type": "code",
   "execution_count": null,
   "metadata": {},
   "outputs": [],
   "source": [
    "print(history.history.keys())\n",
    "matplotlib.pyplot.plot(history.history['loss'], color='red')\n",
    "# matplotlib.pyplot.plot(history.history)\n",
    "# matplotlib.pyplot.title('model m')\n",
    "matplotlib.pyplot.ylabel('loss')\n",
    "matplotlib.pyplot.xlabel('epoch')\n",
    "matplotlib.pyplot.show()\n",
    "# summarize history for loss mse\n",
    "matplotlib.pyplot.plot(history.history['accuracy'], color='blue')\n",
    "matplotlib.pyplot.ylabel('accuracy')\n",
    "matplotlib.pyplot.xlabel('epoch')\n",
    "matplotlib.pyplot.show()"
   ]
  }
 ],
 "metadata": {
  "kernelspec": {
   "display_name": "Python 3",
   "language": "python",
   "name": "python3"
  },
  "language_info": {
   "codemirror_mode": {
    "name": "ipython",
    "version": 3
   },
   "file_extension": ".py",
   "mimetype": "text/x-python",
   "name": "python",
   "nbconvert_exporter": "python",
   "pygments_lexer": "ipython3",
   "version": "3.12.2"
  }
 },
 "nbformat": 4,
 "nbformat_minor": 2
}
